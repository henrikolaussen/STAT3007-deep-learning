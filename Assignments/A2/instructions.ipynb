{
 "cells": [
  {
   "cell_type": "markdown",
   "metadata": {},
   "source": [
    "# Instructions\n",
    "\n",
    "Please read the instructions carefully - not following them may result in a penalty.\n",
    "\n",
    "(a) Write down your name and student number in `A2.ipynb`.\n",
    "\n",
    "(b) There are 3 questions. Provide your answers (text/code/output) in the cells marked with **Answer**. Avoid excessive output (e.g. many lines of debugging messages). Constantly save your work. \n",
    "\n",
    "(c) Follow integrity rules, and provide citations as needed.\n",
    "You can discuss with your classmates, but you are required to write your\n",
    "solutions independently, and specify who you have discussed with in your\n",
    "solution.\n",
    "If you do not know how to solve a problem, you can get 15\\% of the mark by\n",
    "writing down \"I don't know\".\n",
    "\n",
    "(d) Submit your solutions using links in the Assignment 1 folder on Blackboard:\n",
    "* Submit a PDF version of your `A2.ipynb` using the PDF submission link. \n",
    "* Run the code below to create a zip file `A2-sol.zip` and submit it using the zip submission file link. Any file that you created should be in the `supplements` folder. Make sure that we can reproduce your answers by running your `A2.ipynb` notebook. The code prints out all the files that are included in the zip file."
   ]
  },
  {
   "cell_type": "code",
   "execution_count": 2,
   "metadata": {},
   "outputs": [
    {
     "name": "stdout",
     "output_type": "stream",
     "text": [
      "## created A2-sol.zip containing the following files ##\n",
      "supplements/\n",
      "A2.ipynb\n"
     ]
    }
   ],
   "source": [
    "from util import *\n",
    "zip_sol()"
   ]
  },
  {
   "cell_type": "markdown",
   "metadata": {},
   "source": [
    "* You can submit as many times as you want before the deadline. The last submission will be graded.\n",
    "\n",
    "\n",
    "**PDF creation**\n",
    "To create a PDF version of your notebook, you can open it, then press Print to print it to a PDF file. Adjust the scale to make the font size suitable if needed. This can be done by clicking the `More settings` on Chrome - please search the Internet if this does not work for your browser. If there is any issue, you may upload your notebook to Colab first then print it to a PDF.\n",
    "\n",
    "If your PDF doesn't look nice, you may first export it as an HTML, and then print the HTML to PDF."
   ]
  },
  {
   "cell_type": "markdown",
   "metadata": {},
   "source": [
    "# Tips\n",
    "\n",
    "For programming questions, if you want to use the free computing power offered by Colab, you can upload the notebook and work on it using Colab. Once you've all the results in the notebook, you can download it and replace your local version with it.\n",
    "\n",
    "For theory questions, you are encouraged to write your solution using LaTeX in the notebook.\n",
    "However, if you want, you can also include an image of handwritten solutions using the `img` tag.\n",
    "If you use such images, please put them in the `supplements` folder.\n",
    "For example, if you've an image `supplements/Q1-sol.png`, you can also include it by running this HTML command `<img src='supplements/Q1-sol.png'>` in a text cell."
   ]
  }
 ],
 "metadata": {
  "hide_input": false,
  "kernelspec": {
   "display_name": "Python 3 (ipykernel)",
   "language": "python",
   "name": "python3"
  },
  "language_info": {
   "codemirror_mode": {
    "name": "ipython",
    "version": 3
   },
   "file_extension": ".py",
   "mimetype": "text/x-python",
   "name": "python",
   "nbconvert_exporter": "python",
   "pygments_lexer": "ipython3",
   "version": "3.11.8"
  }
 },
 "nbformat": 4,
 "nbformat_minor": 4
}
