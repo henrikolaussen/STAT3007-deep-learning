{
 "cells": [
  {
   "cell_type": "code",
   "execution_count": 1,
   "metadata": {},
   "outputs": [
    {
     "data": {
      "text/html": [
       "<div>\n",
       "<style scoped>\n",
       "    .dataframe tbody tr th:only-of-type {\n",
       "        vertical-align: middle;\n",
       "    }\n",
       "\n",
       "    .dataframe tbody tr th {\n",
       "        vertical-align: top;\n",
       "    }\n",
       "\n",
       "    .dataframe thead th {\n",
       "        text-align: right;\n",
       "    }\n",
       "</style>\n",
       "<table border=\"1\" class=\"dataframe\">\n",
       "  <thead>\n",
       "    <tr style=\"text-align: right;\">\n",
       "      <th></th>\n",
       "      <th>Date</th>\n",
       "      <th>Open</th>\n",
       "      <th>High</th>\n",
       "      <th>Low</th>\n",
       "      <th>Close</th>\n",
       "      <th>Volume</th>\n",
       "      <th>Dividends</th>\n",
       "      <th>Stock Splits</th>\n",
       "      <th>Scaled_close</th>\n",
       "    </tr>\n",
       "  </thead>\n",
       "  <tbody>\n",
       "    <tr>\n",
       "      <th>0</th>\n",
       "      <td>2001-06-18 00:00:00-04:00</td>\n",
       "      <td>2.507966</td>\n",
       "      <td>2.514672</td>\n",
       "      <td>2.504613</td>\n",
       "      <td>2.504613</td>\n",
       "      <td>7189500</td>\n",
       "      <td>0.0</td>\n",
       "      <td>0.0</td>\n",
       "      <td>-0.973381</td>\n",
       "    </tr>\n",
       "    <tr>\n",
       "      <th>1</th>\n",
       "      <td>2001-06-19 00:00:00-04:00</td>\n",
       "      <td>2.531437</td>\n",
       "      <td>2.591789</td>\n",
       "      <td>2.531437</td>\n",
       "      <td>2.554907</td>\n",
       "      <td>1410700</td>\n",
       "      <td>0.0</td>\n",
       "      <td>0.0</td>\n",
       "      <td>-0.970356</td>\n",
       "    </tr>\n",
       "    <tr>\n",
       "      <th>2</th>\n",
       "      <td>2001-06-20 00:00:00-04:00</td>\n",
       "      <td>2.575024</td>\n",
       "      <td>2.578377</td>\n",
       "      <td>2.551554</td>\n",
       "      <td>2.561613</td>\n",
       "      <td>550400</td>\n",
       "      <td>0.0</td>\n",
       "      <td>0.0</td>\n",
       "      <td>-0.969953</td>\n",
       "    </tr>\n",
       "    <tr>\n",
       "      <th>3</th>\n",
       "      <td>2001-06-21 00:00:00-04:00</td>\n",
       "      <td>2.538143</td>\n",
       "      <td>2.548201</td>\n",
       "      <td>2.531437</td>\n",
       "      <td>2.538143</td>\n",
       "      <td>643600</td>\n",
       "      <td>0.0</td>\n",
       "      <td>0.0</td>\n",
       "      <td>-0.971364</td>\n",
       "    </tr>\n",
       "    <tr>\n",
       "      <th>4</th>\n",
       "      <td>2001-06-22 00:00:00-04:00</td>\n",
       "      <td>2.521378</td>\n",
       "      <td>2.531437</td>\n",
       "      <td>2.507967</td>\n",
       "      <td>2.518025</td>\n",
       "      <td>822600</td>\n",
       "      <td>0.0</td>\n",
       "      <td>0.0</td>\n",
       "      <td>-0.972574</td>\n",
       "    </tr>\n",
       "  </tbody>\n",
       "</table>\n",
       "</div>"
      ],
      "text/plain": [
       "                        Date      Open      High       Low     Close   Volume  \\\n",
       "0  2001-06-18 00:00:00-04:00  2.507966  2.514672  2.504613  2.504613  7189500   \n",
       "1  2001-06-19 00:00:00-04:00  2.531437  2.591789  2.531437  2.554907  1410700   \n",
       "2  2001-06-20 00:00:00-04:00  2.575024  2.578377  2.551554  2.561613   550400   \n",
       "3  2001-06-21 00:00:00-04:00  2.538143  2.548201  2.531437  2.538143   643600   \n",
       "4  2001-06-22 00:00:00-04:00  2.521378  2.531437  2.507967  2.518025   822600   \n",
       "\n",
       "   Dividends  Stock Splits  Scaled_close  \n",
       "0        0.0           0.0     -0.973381  \n",
       "1        0.0           0.0     -0.970356  \n",
       "2        0.0           0.0     -0.969953  \n",
       "3        0.0           0.0     -0.971364  \n",
       "4        0.0           0.0     -0.972574  "
      ]
     },
     "execution_count": 1,
     "metadata": {},
     "output_type": "execute_result"
    }
   ],
   "source": [
    "import numpy as np\n",
    "import torch\n",
    "import torch.nn as nn\n",
    "import torch.optim as optim\n",
    "import torch.nn.functional as F\n",
    "import pandas as pd\n",
    "from sklearn.preprocessing import MinMaxScaler\n",
    "import matplotlib.pyplot as plt\n",
    "\n",
    "data = pd.read_csv('/Users/henrikolaussen/Documents/STAT3007-timeseries_forecasting/data/eqnr_max_daily.csv')\n",
    "data.head() "
   ]
  },
  {
   "cell_type": "code",
   "execution_count": 2,
   "metadata": {},
   "outputs": [
    {
     "name": "stdout",
     "output_type": "stream",
     "text": [
      "Using device: cpu for this proj!\n"
     ]
    }
   ],
   "source": [
    "device = torch.device('mps' if torch.backends.mps.is_available() else 'cpu')\n",
    "print(f\"Using device: {device} for this proj!\")"
   ]
  },
  {
   "cell_type": "code",
   "execution_count": 3,
   "metadata": {},
   "outputs": [
    {
     "data": {
      "text/html": [
       "<div>\n",
       "<style scoped>\n",
       "    .dataframe tbody tr th:only-of-type {\n",
       "        vertical-align: middle;\n",
       "    }\n",
       "\n",
       "    .dataframe tbody tr th {\n",
       "        vertical-align: top;\n",
       "    }\n",
       "\n",
       "    .dataframe thead th {\n",
       "        text-align: right;\n",
       "    }\n",
       "</style>\n",
       "<table border=\"1\" class=\"dataframe\">\n",
       "  <thead>\n",
       "    <tr style=\"text-align: right;\">\n",
       "      <th></th>\n",
       "      <th>Date</th>\n",
       "      <th>Scaled_close</th>\n",
       "    </tr>\n",
       "  </thead>\n",
       "  <tbody>\n",
       "    <tr>\n",
       "      <th>0</th>\n",
       "      <td>2001-06-18 00:00:00-04:00</td>\n",
       "      <td>-0.973381</td>\n",
       "    </tr>\n",
       "    <tr>\n",
       "      <th>1</th>\n",
       "      <td>2001-06-19 00:00:00-04:00</td>\n",
       "      <td>-0.970356</td>\n",
       "    </tr>\n",
       "    <tr>\n",
       "      <th>2</th>\n",
       "      <td>2001-06-20 00:00:00-04:00</td>\n",
       "      <td>-0.969953</td>\n",
       "    </tr>\n",
       "    <tr>\n",
       "      <th>3</th>\n",
       "      <td>2001-06-21 00:00:00-04:00</td>\n",
       "      <td>-0.971364</td>\n",
       "    </tr>\n",
       "    <tr>\n",
       "      <th>4</th>\n",
       "      <td>2001-06-22 00:00:00-04:00</td>\n",
       "      <td>-0.972574</td>\n",
       "    </tr>\n",
       "  </tbody>\n",
       "</table>\n",
       "</div>"
      ],
      "text/plain": [
       "                        Date  Scaled_close\n",
       "0  2001-06-18 00:00:00-04:00     -0.973381\n",
       "1  2001-06-19 00:00:00-04:00     -0.970356\n",
       "2  2001-06-20 00:00:00-04:00     -0.969953\n",
       "3  2001-06-21 00:00:00-04:00     -0.971364\n",
       "4  2001-06-22 00:00:00-04:00     -0.972574"
      ]
     },
     "execution_count": 3,
     "metadata": {},
     "output_type": "execute_result"
    }
   ],
   "source": [
    "#min/max scaling \n",
    "scaler = MinMaxScaler(feature_range=(-1, 1))\n",
    "data['Scaled_close'] = scaler.fit_transform(data[['Close']])\n",
    "data_raw = data[['Date','Scaled_close']]\n",
    "data_raw.head()"
   ]
  },
  {
   "cell_type": "code",
   "execution_count": 4,
   "metadata": {},
   "outputs": [
    {
     "name": "stdout",
     "output_type": "stream",
     "text": [
      "train data shape:  (4596, 2)\n",
      "test data shape:  (1150, 2)\n"
     ]
    }
   ],
   "source": [
    "train_data = data_raw[0:int(len(data_raw)*0.80)]\n",
    "test_data = data_raw[int(len(data_raw)*0.80):]\n",
    "\n",
    "print('train data shape: ', train_data.shape)\n",
    "print('test data shape: ', test_data.shape)"
   ]
  },
  {
   "cell_type": "markdown",
   "metadata": {},
   "source": [
    "Split into sequences with a given number of time steps as look back."
   ]
  },
  {
   "cell_type": "code",
   "execution_count": 5,
   "metadata": {},
   "outputs": [],
   "source": [
    "def get_sequences(df: pd.DataFrame, sequence_length: int):\n",
    "    data = df.drop(columns=['Date']).to_numpy()\n",
    "    sequences = []\n",
    "    for index in range(len(data) - sequence_length):\n",
    "        sequence = data[index : index + sequence_length+1]\n",
    "        sequences.append(sequence)\n",
    "    \n",
    "    return torch.tensor(sequences).float()"
   ]
  },
  {
   "cell_type": "code",
   "execution_count": 6,
   "metadata": {},
   "outputs": [],
   "source": [
    "from torch.utils.data import Dataset, DataLoader\n",
    "\n",
    "class TimeSeriesDataset(Dataset):\n",
    "    def __init__(self,x):\n",
    "        self.x = x\n",
    "    \n",
    "    def __len__(self):\n",
    "        return len(self.x)\n",
    "    \n",
    "    def __getitem__(self,i):\n",
    "        return self.x[i]"
   ]
  },
  {
   "cell_type": "markdown",
   "metadata": {},
   "source": [
    "Fixing the data"
   ]
  },
  {
   "cell_type": "markdown",
   "metadata": {},
   "source": [
    "### Implement RNN"
   ]
  },
  {
   "cell_type": "code",
   "execution_count": 7,
   "metadata": {},
   "outputs": [],
   "source": [
    "class RNN(nn.Module):\n",
    "    def __init__(self, input_size, hidden_size, num_layers, output_size, device):\n",
    "        super(RNN, self).__init__()\n",
    "        self.hidden_size = hidden_size\n",
    "        self.num_layers = num_layers\n",
    "        self.device = device\n",
    "\n",
    "        self.rnn_layer = nn.RNN(input_size, hidden_size, num_layers, batch_first=True)\n",
    "        self.dense_layer = nn.Linear(hidden_size, output_size)\n",
    "\n",
    "    def forward(self, x, unbatched = False):\n",
    "        batch_size = x.shape[0]\n",
    "\n",
    "        if unbatched:\n",
    "            h0 = torch.zeros(self.num_layers, self.hidden_size).requires_grad_()\n",
    "        else:\n",
    "            h0 = torch.zeros(self.num_layers, batch_size, self.hidden_size).requires_grad_()\n",
    "\n",
    "        h0 = h0.to(self.device)\n",
    "        out = self.dense_layer(self.rnn_layer(x, h0)[0][:,-1,:])\n",
    "        return out"
   ]
  },
  {
   "cell_type": "markdown",
   "metadata": {},
   "source": [
    "Training and testing:"
   ]
  },
  {
   "cell_type": "code",
   "execution_count": 8,
   "metadata": {},
   "outputs": [],
   "source": [
    "from tqdm import tqdm\n",
    "\n",
    "def train(model, optimizer, dataloader, num_epochs, loss_func, prediction_horizon: int, gradient_clipping: bool):\n",
    "   \n",
    "    for epoch in range(num_epochs):\n",
    "        running_loss = 0.0\n",
    "        total_batches = len(dataloader)\n",
    "        for i, batch in enumerate(\n",
    "            tqdm(dataloader, desc=f\"Epoch {epoch+1}/{num_epochs}\", ncols=100)\n",
    "        ):\n",
    "            optimizer.zero_grad()\n",
    "\n",
    "            x = batch[:, :-prediction_horizon].to(\n",
    "                device\n",
    "            )  # All but the last n elements of each sequence\n",
    "            targets = batch[:, -prediction_horizon:].to(\n",
    "                device\n",
    "            )  # Last n elements is targets\n",
    "            targets = targets.squeeze()  # [batch_size, 1, 1] -> [batch_size]\n",
    "\n",
    "            outputs = model(x)  # Forward pass\n",
    "            outputs = outputs.squeeze()  # [batch_size, 1] -> [batch_size]\n",
    "\n",
    "            loss = loss_func(outputs, targets)\n",
    "\n",
    "            loss.backward()\n",
    "\n",
    "            # Gradient clipping\n",
    "            if gradient_clipping == True: \n",
    "                torch.nn.utils.clip_grad_norm_(model.parameters(), 10) #max_grad_norm = 5. \n",
    "\n",
    "            optimizer.step()\n",
    "\n",
    "            running_loss += loss.item()\n",
    "\n",
    "        '''\n",
    "        # Print gradient values\n",
    "        for name, param in model.named_parameters():\n",
    "            if param.grad is not None:\n",
    "                print(f\"Parameter: {name}, Gradient norm: {param.grad.norm().item()}\")\n",
    "        '''\n",
    "        avg_loss = running_loss / total_batches\n",
    "        print(f\"Epoch {epoch+1}/{num_epochs}, Average Loss: {avg_loss:.10f}\")\n",
    "\n",
    "\n",
    "def test(net, forecast_steps, test_loader):\n",
    "    device = next(net.parameters()).device\n",
    "    loss_function = nn.MSELoss(reduction = 'mean')\n",
    "    net.eval()\n",
    "    with torch.no_grad():\n",
    "        tot_test_loss = 0.0\n",
    "        n_batches = len(test_loader)\n",
    "        for batch in test_loader:\n",
    "            batch = batch.to(device)\n",
    "\n",
    "            test_pred = net(batch[:,:-forecast_steps])\n",
    "\n",
    "            test_loss = loss_function(test_pred, batch[:,-forecast_steps:].squeeze(2))\n",
    "\n",
    "            tot_test_loss += test_loss.item()\n",
    "        return tot_test_loss/n_batches"
   ]
  },
  {
   "cell_type": "markdown",
   "metadata": {},
   "source": [
    "Forecasting of a single stock:"
   ]
  },
  {
   "cell_type": "code",
   "execution_count": 9,
   "metadata": {},
   "outputs": [],
   "source": [
    "x_forecast = torch.tensor(test_data['Scaled_close'].values, dtype = torch.float32) #test data to be used for forecasting\n",
    "\n",
    "def forecast_rolling(net, x_forecast, m, forecast_steps, look_back, plot = True): #'rolling' forecast \n",
    "    ''' \n",
    "    x_forecast: one dimentional tensor of unseen test data \n",
    "    m: first test point in historical data (of test data/unseen data)\n",
    "    '''\n",
    "    #forecast x number of days into the future. Use previous predictions in the look-back sequence historical data\n",
    "    historical_data = x_forecast[m:m+look_back].unsqueeze(0).unsqueeze(2)\n",
    "    hist_data_plot = historical_data.squeeze(2).squeeze(0).detach().numpy()\n",
    "    forecasted_values = []\n",
    "    with torch.no_grad():\n",
    "        for i in range(forecast_steps):\n",
    "            pred = net(historical_data)\n",
    "            forecasted_values.append(float(pred.detach().numpy()))\n",
    "            historical_data = historical_data.roll(shifts=-1)\n",
    "            historical_data[-1][-1] = pred\n",
    "            \n",
    "    if plot == True: \n",
    "        days = np.arange(1,look_back + forecast_steps+1,1)\n",
    "        plt.plot(days[-forecast_steps:], np.array(x_forecast[m+look_back:m+look_back+forecast_steps]),'o-', label = 'Test data')\n",
    "        plt.plot(days[-forecast_steps:], forecasted_values,'.-', label = 'Forecasted values')\n",
    "        plt.plot(days[:-forecast_steps],hist_data_plot, '.-', label = 'Historical data')\n",
    "        #plt.ylim(-1,1)\n",
    "        plt.title(f'Forecast of {forecast_steps} days')\n",
    "        plt.xlabel('days')\n",
    "        plt.ylabel('scaled close')\n",
    "        plt.legend()\n",
    "        plt.grid()\n",
    "        plt.show()"
   ]
  },
  {
   "cell_type": "code",
   "execution_count": 10,
   "metadata": {},
   "outputs": [],
   "source": [
    "def forecast(net, ts_viz, sequence_length, forecast_steps, model_type: str, plot=True): #multistep forecast \n",
    "    device = next(net.parameters()).device\n",
    "    historical_data = ts_viz[300:300+sequence_length-forecast_steps].unsqueeze(0).unsqueeze(2)\n",
    "    hist_data_plot = historical_data.squeeze(2).squeeze(0).detach().numpy()\n",
    "\n",
    "    with torch.no_grad():\n",
    "        historical_data = historical_data.to(device)\n",
    "        pred = net(historical_data)\n",
    "\n",
    "    if plot:\n",
    "        days = np.arange(1, sequence_length + 1)\n",
    "\n",
    "        vals = ts_viz[300+sequence_length-forecast_steps:300+sequence_length].cpu().numpy()\n",
    "        pred_cpu = pred.cpu().squeeze(0).numpy()  # Move prediction to CPU\n",
    "   \n",
    "        plt.plot(days[:-forecast_steps], hist_data_plot, 'o-', label='Test data')\n",
    "        plt.plot(days[-forecast_steps:], pred_cpu, 'o-', label='Forecasted values')\n",
    "        plt.plot(days[-forecast_steps:], vals, '.-', alpha=0.3, label='Actual values', color='tab:blue')\n",
    "        plt.title(f'Forecast of {len(pred[0])} days for {model_type}')\n",
    "        plt.xlabel('Days')\n",
    "        plt.legend()\n",
    "        plt.grid()\n",
    "        #plt.savefig(f'{model_type} for Equinor data')\n",
    "        plt.show()"
   ]
  },
  {
   "cell_type": "code",
   "execution_count": 17,
   "metadata": {},
   "outputs": [
    {
     "name": "stderr",
     "output_type": "stream",
     "text": [
      "Epoch 1/10: 100%|█████████████████████████████████████████████████| 190/190 [00:06<00:00, 29.92it/s]\n"
     ]
    },
    {
     "name": "stdout",
     "output_type": "stream",
     "text": [
      "Epoch 1/10, Average Loss: 0.0821197068\n"
     ]
    },
    {
     "name": "stderr",
     "output_type": "stream",
     "text": [
      "Epoch 2/10: 100%|█████████████████████████████████████████████████| 190/190 [00:08<00:00, 23.72it/s]\n"
     ]
    },
    {
     "name": "stdout",
     "output_type": "stream",
     "text": [
      "Epoch 2/10, Average Loss: 0.0275930058\n"
     ]
    },
    {
     "name": "stderr",
     "output_type": "stream",
     "text": [
      "Epoch 3/10: 100%|█████████████████████████████████████████████████| 190/190 [00:07<00:00, 24.76it/s]\n"
     ]
    },
    {
     "name": "stdout",
     "output_type": "stream",
     "text": [
      "Epoch 3/10, Average Loss: 0.0026712292\n"
     ]
    },
    {
     "name": "stderr",
     "output_type": "stream",
     "text": [
      "Epoch 4/10: 100%|█████████████████████████████████████████████████| 190/190 [00:06<00:00, 28.65it/s]\n"
     ]
    },
    {
     "name": "stdout",
     "output_type": "stream",
     "text": [
      "Epoch 4/10, Average Loss: 0.0014713102\n"
     ]
    },
    {
     "name": "stderr",
     "output_type": "stream",
     "text": [
      "Epoch 5/10: 100%|█████████████████████████████████████████████████| 190/190 [00:05<00:00, 33.28it/s]\n"
     ]
    },
    {
     "name": "stdout",
     "output_type": "stream",
     "text": [
      "Epoch 5/10, Average Loss: 0.0013712699\n"
     ]
    },
    {
     "name": "stderr",
     "output_type": "stream",
     "text": [
      "Epoch 6/10: 100%|█████████████████████████████████████████████████| 190/190 [00:05<00:00, 33.94it/s]\n"
     ]
    },
    {
     "name": "stdout",
     "output_type": "stream",
     "text": [
      "Epoch 6/10, Average Loss: 0.0013138578\n"
     ]
    },
    {
     "name": "stderr",
     "output_type": "stream",
     "text": [
      "Epoch 7/10: 100%|█████████████████████████████████████████████████| 190/190 [00:05<00:00, 32.36it/s]\n"
     ]
    },
    {
     "name": "stdout",
     "output_type": "stream",
     "text": [
      "Epoch 7/10, Average Loss: 0.0012498456\n"
     ]
    },
    {
     "name": "stderr",
     "output_type": "stream",
     "text": [
      "Epoch 8/10: 100%|█████████████████████████████████████████████████| 190/190 [00:05<00:00, 33.16it/s]\n"
     ]
    },
    {
     "name": "stdout",
     "output_type": "stream",
     "text": [
      "Epoch 8/10, Average Loss: 0.0012077343\n"
     ]
    },
    {
     "name": "stderr",
     "output_type": "stream",
     "text": [
      "Epoch 9/10: 100%|█████████████████████████████████████████████████| 190/190 [00:06<00:00, 30.17it/s]\n"
     ]
    },
    {
     "name": "stdout",
     "output_type": "stream",
     "text": [
      "Epoch 9/10, Average Loss: 0.0011722934\n"
     ]
    },
    {
     "name": "stderr",
     "output_type": "stream",
     "text": [
      "Epoch 10/10: 100%|████████████████████████████████████████████████| 190/190 [00:07<00:00, 26.03it/s]"
     ]
    },
    {
     "name": "stdout",
     "output_type": "stream",
     "text": [
      "Epoch 10/10, Average Loss: 0.0011408177\n"
     ]
    },
    {
     "name": "stderr",
     "output_type": "stream",
     "text": [
      "\n"
     ]
    }
   ],
   "source": [
    "forecast_steps = 5\n",
    "sequence_length = 50 + forecast_steps\n",
    "\n",
    "train_sequence = get_sequences(train_data, sequence_length)\n",
    "test_sequence = get_sequences(test_data, sequence_length)\n",
    "\n",
    "train_dataset = TimeSeriesDataset(train_sequence)\n",
    "test_dataset = TimeSeriesDataset(test_sequence)\n",
    "\n",
    "batch_size = 24\n",
    "\n",
    "#train loaders\n",
    "train_loader = DataLoader(train_dataset, batch_size=batch_size, shuffle=True)\n",
    "\n",
    "#test loaders\n",
    "test_loader = DataLoader(test_dataset, batch_size=batch_size, shuffle=False)\n",
    "\n",
    "input_size = 1\n",
    "hidden_size = 512\n",
    "num_layers = 1\n",
    "output_size = forecast_steps\n",
    "\n",
    "loss_function = nn.MSELoss(reduction = 'mean')\n",
    "rnn = RNN(input_size, hidden_size, num_layers, output_size, device)\n",
    "optimizer = optim.SGD(rnn.parameters(), lr=0.01)\n",
    "train(rnn, optimizer, train_loader, num_epochs=10, loss_func=loss_function, prediction_horizon=forecast_steps, gradient_clipping=False)"
   ]
  },
  {
   "cell_type": "code",
   "execution_count": 18,
   "metadata": {},
   "outputs": [
    {
     "data": {
      "text/plain": [
       "0.004528689255138212"
      ]
     },
     "execution_count": 18,
     "metadata": {},
     "output_type": "execute_result"
    }
   ],
   "source": [
    "test(rnn, forecast_steps, test_loader)"
   ]
  },
  {
   "cell_type": "code",
   "execution_count": 19,
   "metadata": {},
   "outputs": [
    {
     "data": {
      "image/png": "[encoded data removed]",
      "text/plain": [
       "<Figure size 640x480 with 1 Axes>"
      ]
     },
     "metadata": {},
     "output_type": "display_data"
    }
   ],
   "source": [
    "forecast(rnn, torch.tensor(test_data['Scaled_close'].to_numpy(), dtype=torch.float32), sequence_length, forecast_steps, 'RNN')"
   ]
  },
  {
   "cell_type": "code",
   "execution_count": null,
   "metadata": {},
   "outputs": [],
   "source": []
  }
 ],
 "metadata": {
  "kernelspec": {
   "display_name": "ML",
   "language": "python",
   "name": "python3"
  },
  "language_info": {
   "codemirror_mode": {
    "name": "ipython",
    "version": 3
   },
   "file_extension": ".py",
   "mimetype": "text/x-python",
   "name": "python",
   "nbconvert_exporter": "python",
   "pygments_lexer": "ipython3",
   "version": "3.11.8"
  }
 },
 "nbformat": 4,
 "nbformat_minor": 2
}
