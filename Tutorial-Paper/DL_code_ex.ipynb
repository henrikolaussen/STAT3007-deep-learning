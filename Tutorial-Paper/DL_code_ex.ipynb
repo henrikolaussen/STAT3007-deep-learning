{
  "cells": [
    {
      "cell_type": "code",
      "execution_count": 5,
      "metadata": {
        "colab": {
          "base_uri": "https://localhost:8080/"
        },
        "id": "0uoq3kMPf9Cn",
        "outputId": "413bae01-5cf6-47f6-a1bc-503b1a0f03bb"
      },
      "outputs": [
        {
          "name": "stdout",
          "output_type": "stream",
          "text": [
            "2.2.2\n",
            "Cuda Available : False\n"
          ]
        }
      ],
      "source": [
        "import torch\n",
        "import torch.nn as nn\n",
        "import torch.optim as optim\n",
        "from torchvision import datasets, transforms\n",
        "from torch.utils.data import DataLoader, random_split\n",
        "from tqdm import tqdm\n",
        "import matplotlib.pyplot as plt\n",
        "\n",
        "print(torch.__version__)\n",
        "print('Cuda Available : {}'.format(torch.cuda.is_available()))\n",
        "if torch.cuda.is_available():\n",
        "  print('GPU - {0}'.format(torch.cuda.get_device_name()))\n",
        "\n",
        "# Device configuration\n",
        "device = torch.device('cuda' if torch.cuda.is_available() else 'cpu')"
      ]
    },
    {
      "cell_type": "markdown",
      "metadata": {
        "id": "W0dbJPbZgbaq"
      },
      "source": [
        "## LOAD & PRE-PROCESSING DATASET\n",
        "\n"
      ]
    },
    {
      "cell_type": "code",
      "execution_count": 2,
      "metadata": {
        "colab": {
          "base_uri": "https://localhost:8080/"
        },
        "id": "f1Ey-NqLTOBc",
        "outputId": "ea95873e-7bfb-4f85-d8ea-b9915762bf47"
      },
      "outputs": [
        {
          "name": "stdout",
          "output_type": "stream",
          "text": [
            "Downloading http://yann.lecun.com/exdb/mnist/train-images-idx3-ubyte.gz\n",
            "Failed to download (trying next):\n",
            "HTTP Error 403: Forbidden\n",
            "\n",
            "Downloading https://ossci-datasets.s3.amazonaws.com/mnist/train-images-idx3-ubyte.gz\n",
            "Downloading https://ossci-datasets.s3.amazonaws.com/mnist/train-images-idx3-ubyte.gz to data/MNIST/raw/train-images-idx3-ubyte.gz\n"
          ]
        },
        {
          "name": "stderr",
          "output_type": "stream",
          "text": [
            "100%|██████████| 9912422/9912422 [03:03<00:00, 54091.17it/s] \n"
          ]
        },
        {
          "name": "stdout",
          "output_type": "stream",
          "text": [
            "Extracting data/MNIST/raw/train-images-idx3-ubyte.gz to data/MNIST/raw\n",
            "\n",
            "Downloading http://yann.lecun.com/exdb/mnist/train-labels-idx1-ubyte.gz\n",
            "Failed to download (trying next):\n",
            "HTTP Error 403: Forbidden\n",
            "\n",
            "Downloading https://ossci-datasets.s3.amazonaws.com/mnist/train-labels-idx1-ubyte.gz\n",
            "Downloading https://ossci-datasets.s3.amazonaws.com/mnist/train-labels-idx1-ubyte.gz to data/MNIST/raw/train-labels-idx1-ubyte.gz\n"
          ]
        },
        {
          "name": "stderr",
          "output_type": "stream",
          "text": [
            "100%|██████████| 28881/28881 [00:00<00:00, 63375.31it/s]\n"
          ]
        },
        {
          "name": "stdout",
          "output_type": "stream",
          "text": [
            "Extracting data/MNIST/raw/train-labels-idx1-ubyte.gz to data/MNIST/raw\n",
            "\n",
            "Downloading http://yann.lecun.com/exdb/mnist/t10k-images-idx3-ubyte.gz\n",
            "Failed to download (trying next):\n",
            "HTTP Error 403: Forbidden\n",
            "\n",
            "Downloading https://ossci-datasets.s3.amazonaws.com/mnist/t10k-images-idx3-ubyte.gz\n",
            "Downloading https://ossci-datasets.s3.amazonaws.com/mnist/t10k-images-idx3-ubyte.gz to data/MNIST/raw/t10k-images-idx3-ubyte.gz\n"
          ]
        },
        {
          "name": "stderr",
          "output_type": "stream",
          "text": [
            "100%|██████████| 1648877/1648877 [00:09<00:00, 168286.86it/s]\n"
          ]
        },
        {
          "name": "stdout",
          "output_type": "stream",
          "text": [
            "Extracting data/MNIST/raw/t10k-images-idx3-ubyte.gz to data/MNIST/raw\n",
            "\n",
            "Downloading http://yann.lecun.com/exdb/mnist/t10k-labels-idx1-ubyte.gz\n",
            "Failed to download (trying next):\n",
            "HTTP Error 403: Forbidden\n",
            "\n",
            "Downloading https://ossci-datasets.s3.amazonaws.com/mnist/t10k-labels-idx1-ubyte.gz\n",
            "Downloading https://ossci-datasets.s3.amazonaws.com/mnist/t10k-labels-idx1-ubyte.gz to data/MNIST/raw/t10k-labels-idx1-ubyte.gz\n"
          ]
        },
        {
          "name": "stderr",
          "output_type": "stream",
          "text": [
            "100%|██████████| 4542/4542 [00:00<00:00, 1568848.62it/s]"
          ]
        },
        {
          "name": "stdout",
          "output_type": "stream",
          "text": [
            "Extracting data/MNIST/raw/t10k-labels-idx1-ubyte.gz to data/MNIST/raw\n",
            "\n"
          ]
        },
        {
          "name": "stderr",
          "output_type": "stream",
          "text": [
            "\n"
          ]
        }
      ],
      "source": [
        "# Define transformations\n",
        "transform = transforms.Compose([\n",
        "    transforms.ToTensor(),  # Convert PIL Image to tensor\n",
        "    transforms.Normalize((0.1307,), (0.3081,))  # Normalize the pixel values\n",
        "])\n",
        "\n",
        "# Load MNIST training dataset with transformations\n",
        "mnist_train = datasets.MNIST('data', train=True, download=True, transform=transform)\n",
        "mnist_test = datasets.MNIST('data', train=False, download=True, transform=transform)\n",
        "\n",
        "# Define data loaders\n",
        "train_loader = DataLoader(mnist_train, batch_size=128, shuffle=True)\n",
        "test_loader = DataLoader(mnist_test, batch_size=128)"
      ]
    },
    {
      "cell_type": "markdown",
      "metadata": {
        "id": "2H0BUL_GLscQ"
      },
      "source": [
        "## Applying Dropout to the dense layers in a CNN "
      ]
    },
    {
      "cell_type": "code",
      "execution_count": 61,
      "metadata": {},
      "outputs": [
        {
          "name": "stdout",
          "output_type": "stream",
          "text": [
            "train size 48000\n",
            "test size 10000\n"
          ]
        }
      ],
      "source": [
        "print('train size', len(mnist_train))\n",
        "print('test size', len(mnist_test))"
      ]
    },
    {
      "cell_type": "code",
      "execution_count": 103,
      "metadata": {
        "id": "fMOffvtOLucu"
      },
      "outputs": [],
      "source": [
        "class CNN_dropout(nn.Module):\n",
        "    def __init__(self):\n",
        "        super(CNN_dropout, self).__init__()\n",
        "        \n",
        "        #convolutional layer\n",
        "        self.cnn_layers = nn.Sequential(\n",
        "          nn.Conv2d(in_channels=1,out_channels=4,kernel_size=3, stride = 1), \n",
        "          nn.ReLU(), \n",
        "          nn.MaxPool2d(kernel_size = 2)\n",
        "          )\n",
        "\n",
        "        #dense_layer\n",
        "        self.dense_layers = nn.Sequential(\n",
        "            nn.Flatten(), \n",
        "            nn.Linear(in_features = 4 * 13 * 13, out_features = 50),\n",
        "            nn.Dropout(p=0.4), #Place after the dense layer we want to apply dropout to\n",
        "            nn.Linear(in_features = 50, out_features = 10)\n",
        "            )\n",
        "\n",
        "    def forward(self, x):\n",
        "        x = self.cnn_layers(x)\n",
        "        x = self.dense_layers(x)\n",
        "        out = torch.softmax(x, dim=1)\n",
        "        return out"
      ]
    },
    {
      "cell_type": "code",
      "execution_count": 104,
      "metadata": {
        "colab": {
          "base_uri": "https://localhost:8080/"
        },
        "id": "AAihtiQyL31g",
        "outputId": "e1a3203d-8322-472d-92bd-064a37bd3da4"
      },
      "outputs": [],
      "source": [
        "def train(net, train_data):\n",
        "  # Hyperparameters\n",
        "  num_epochs = 15\n",
        "  learning_rate = 0.1\n",
        "\n",
        "  # Loss and optimizer\n",
        "  optimizer = optim.SGD(net.parameters(), lr = learning_rate)\n",
        "  loss_func = nn.CrossEntropyLoss()\n",
        "\n",
        "  # Train the model\n",
        "  train_acc = []\n",
        "  net.train()\n",
        "\n",
        "  dataloader = DataLoader(train_data, batch_size=128, shuffle=True)\n",
        "  for epoch in range(num_epochs):\n",
        "\n",
        "    # Extracting mini-batch\n",
        "    for i, (images, labels) in enumerate(tqdm(dataloader, desc=f\"Epoch {epoch+1}\")):\n",
        "      # Put data and model on the same device\n",
        "      images, labels, net = images.to(device), labels.to(device), net.to(device)\n",
        "\n",
        "      # Forward pass\n",
        "      optimizer.zero_grad()\n",
        "      out = net.forward(images)\n",
        "      loss = loss_func(out, labels)\n",
        "\n",
        "      # Backward and optimize\n",
        "      loss.backward() #calculate the gradients of the loss\n",
        "      optimizer.step() #do an optimisation step\n",
        "\n",
        "    acc = test(net, train_data)\n",
        "    train_acc.append(float(acc))\n",
        "    print(f'Epoch [{epoch+1}/{num_epochs}], Train Accuracy: {acc:.2f}%')\n",
        "  return train_acc\n",
        "  \n",
        "def test(net, test_data):\n",
        "  dataloader = DataLoader(test_data, batch_size=128, shuffle=False)\n",
        "  with torch.no_grad():\n",
        "    net.eval()\n",
        "    class_predictions = []\n",
        "    class_labels = []\n",
        "    for (images, labels) in dataloader: #go through the test set\n",
        "      images = images.to(device)\n",
        "\n",
        "      curr_pred = torch.max(net.forward(images), 1)[1].cpu() #index of largest value\n",
        "\n",
        "      class_predictions.append(curr_pred)\n",
        "      class_labels.append(labels)\n",
        "\n",
        "    #concatenate all tensors in the lists:\n",
        "    class_predictions = torch.cat(class_predictions)\n",
        "    class_labels = torch.cat(class_labels)\n",
        "\n",
        "    correct = (class_predictions == class_labels).sum().float()\n",
        "    total = len(class_predictions)\n",
        "\n",
        "    test_accuracy = correct * 100 / total\n",
        "    return test_accuracy\n"
      ]
    },
    {
      "cell_type": "code",
      "execution_count": 106,
      "metadata": {
        "colab": {
          "base_uri": "https://localhost:8080/"
        },
        "id": "8OMn3CreciCQ",
        "outputId": "9ab241b5-44b0-453d-95de-e50a31f10aeb"
      },
      "outputs": [
        {
          "name": "stderr",
          "output_type": "stream",
          "text": [
            "Epoch 1: 100%|██████████| 375/375 [00:08<00:00, 42.38it/s]\n"
          ]
        },
        {
          "name": "stdout",
          "output_type": "stream",
          "text": [
            "Epoch [1/15], Train Accuracy: 89.06%\n"
          ]
        },
        {
          "name": "stderr",
          "output_type": "stream",
          "text": [
            "Epoch 2: 100%|██████████| 375/375 [00:09<00:00, 38.48it/s]\n"
          ]
        },
        {
          "name": "stdout",
          "output_type": "stream",
          "text": [
            "Epoch [2/15], Train Accuracy: 90.84%\n"
          ]
        },
        {
          "name": "stderr",
          "output_type": "stream",
          "text": [
            "Epoch 3: 100%|██████████| 375/375 [00:10<00:00, 37.19it/s]\n"
          ]
        },
        {
          "name": "stdout",
          "output_type": "stream",
          "text": [
            "Epoch [3/15], Train Accuracy: 91.14%\n"
          ]
        },
        {
          "name": "stderr",
          "output_type": "stream",
          "text": [
            "Epoch 4: 100%|██████████| 375/375 [00:08<00:00, 42.37it/s]\n"
          ]
        },
        {
          "name": "stdout",
          "output_type": "stream",
          "text": [
            "Epoch [4/15], Train Accuracy: 91.61%\n"
          ]
        },
        {
          "name": "stderr",
          "output_type": "stream",
          "text": [
            "Epoch 5: 100%|██████████| 375/375 [00:08<00:00, 41.74it/s]\n"
          ]
        },
        {
          "name": "stdout",
          "output_type": "stream",
          "text": [
            "Epoch [5/15], Train Accuracy: 91.71%\n"
          ]
        },
        {
          "name": "stderr",
          "output_type": "stream",
          "text": [
            "Epoch 6: 100%|██████████| 375/375 [00:10<00:00, 37.11it/s]\n"
          ]
        },
        {
          "name": "stdout",
          "output_type": "stream",
          "text": [
            "Epoch [6/15], Train Accuracy: 91.97%\n"
          ]
        },
        {
          "name": "stderr",
          "output_type": "stream",
          "text": [
            "Epoch 7: 100%|██████████| 375/375 [00:09<00:00, 39.48it/s]\n"
          ]
        },
        {
          "name": "stdout",
          "output_type": "stream",
          "text": [
            "Epoch [7/15], Train Accuracy: 91.96%\n"
          ]
        },
        {
          "name": "stderr",
          "output_type": "stream",
          "text": [
            "Epoch 8: 100%|██████████| 375/375 [00:09<00:00, 40.62it/s]\n"
          ]
        },
        {
          "name": "stdout",
          "output_type": "stream",
          "text": [
            "Epoch [8/15], Train Accuracy: 92.40%\n"
          ]
        },
        {
          "name": "stderr",
          "output_type": "stream",
          "text": [
            "Epoch 9: 100%|██████████| 375/375 [00:08<00:00, 43.59it/s]\n"
          ]
        },
        {
          "name": "stdout",
          "output_type": "stream",
          "text": [
            "Epoch [9/15], Train Accuracy: 92.41%\n"
          ]
        },
        {
          "name": "stderr",
          "output_type": "stream",
          "text": [
            "Epoch 10: 100%|██████████| 375/375 [00:08<00:00, 43.02it/s]\n"
          ]
        },
        {
          "name": "stdout",
          "output_type": "stream",
          "text": [
            "Epoch [10/15], Train Accuracy: 92.33%\n"
          ]
        },
        {
          "name": "stderr",
          "output_type": "stream",
          "text": [
            "Epoch 11: 100%|██████████| 375/375 [00:10<00:00, 37.25it/s]\n"
          ]
        },
        {
          "name": "stdout",
          "output_type": "stream",
          "text": [
            "Epoch [11/15], Train Accuracy: 92.28%\n"
          ]
        },
        {
          "name": "stderr",
          "output_type": "stream",
          "text": [
            "Epoch 12: 100%|██████████| 375/375 [00:09<00:00, 41.63it/s]\n"
          ]
        },
        {
          "name": "stdout",
          "output_type": "stream",
          "text": [
            "Epoch [12/15], Train Accuracy: 93.14%\n"
          ]
        },
        {
          "name": "stderr",
          "output_type": "stream",
          "text": [
            "Epoch 13: 100%|██████████| 375/375 [00:08<00:00, 46.17it/s]\n"
          ]
        },
        {
          "name": "stdout",
          "output_type": "stream",
          "text": [
            "Epoch [13/15], Train Accuracy: 93.44%\n"
          ]
        },
        {
          "name": "stderr",
          "output_type": "stream",
          "text": [
            "Epoch 14: 100%|██████████| 375/375 [00:09<00:00, 40.97it/s]\n"
          ]
        },
        {
          "name": "stdout",
          "output_type": "stream",
          "text": [
            "Epoch [14/15], Train Accuracy: 93.42%\n"
          ]
        },
        {
          "name": "stderr",
          "output_type": "stream",
          "text": [
            "Epoch 15: 100%|██████████| 375/375 [00:09<00:00, 38.41it/s]\n"
          ]
        },
        {
          "name": "stdout",
          "output_type": "stream",
          "text": [
            "Epoch [15/15], Train Accuracy: 94.31%\n"
          ]
        }
      ],
      "source": [
        "#Training with dropout \n",
        "cnn_dropout = CNN_dropout()\n",
        "train_acc_cnn_do = train(cnn_dropout, mnist_train)"
      ]
    },
    {
      "cell_type": "code",
      "execution_count": 107,
      "metadata": {},
      "outputs": [],
      "source": [
        "test_acc_cnn_do = test(cnn_dropout, mnist_test)"
      ]
    },
    {
      "cell_type": "markdown",
      "metadata": {},
      "source": [
        "## Without Dropout in the CNN  "
      ]
    },
    {
      "cell_type": "code",
      "execution_count": 113,
      "metadata": {},
      "outputs": [],
      "source": [
        "class CNN(nn.Module):\n",
        "    def __init__(self):\n",
        "        super(CNN, self).__init__()\n",
        "        \n",
        "        #convolutional layer\n",
        "        self.cnn_layers = nn.Sequential(\n",
        "          nn.Conv2d(in_channels=1,out_channels=4,kernel_size=3, stride = 1), \n",
        "          nn.ReLU(), \n",
        "          nn.MaxPool2d(kernel_size = 2)\n",
        "          )\n",
        "\n",
        "        #dense_layer\n",
        "        self.dense_layers = nn.Sequential(\n",
        "            nn.Flatten(), \n",
        "            nn.Linear(in_features = 4 * 13 * 13, out_features = 50),\n",
        "            nn.Linear(in_features = 50, out_features = 10)\n",
        "            )\n",
        "\n",
        "    def forward(self, x):\n",
        "        x = self.cnn_layers(x)\n",
        "        x = self.dense_layers(x)\n",
        "        out = torch.softmax(x, dim=1)\n",
        "        return out"
      ]
    },
    {
      "cell_type": "code",
      "execution_count": 114,
      "metadata": {},
      "outputs": [
        {
          "name": "stderr",
          "output_type": "stream",
          "text": [
            "Epoch 1: 100%|██████████| 375/375 [00:08<00:00, 44.27it/s]\n"
          ]
        },
        {
          "name": "stdout",
          "output_type": "stream",
          "text": [
            "Epoch [1/15], Train Accuracy: 89.93%\n"
          ]
        },
        {
          "name": "stderr",
          "output_type": "stream",
          "text": [
            "Epoch 2: 100%|██████████| 375/375 [00:09<00:00, 37.97it/s]\n"
          ]
        },
        {
          "name": "stdout",
          "output_type": "stream",
          "text": [
            "Epoch [2/15], Train Accuracy: 90.95%\n"
          ]
        },
        {
          "name": "stderr",
          "output_type": "stream",
          "text": [
            "Epoch 3: 100%|██████████| 375/375 [00:09<00:00, 40.24it/s]\n"
          ]
        },
        {
          "name": "stdout",
          "output_type": "stream",
          "text": [
            "Epoch [3/15], Train Accuracy: 91.36%\n"
          ]
        },
        {
          "name": "stderr",
          "output_type": "stream",
          "text": [
            "Epoch 4: 100%|██████████| 375/375 [00:09<00:00, 40.76it/s]\n"
          ]
        },
        {
          "name": "stdout",
          "output_type": "stream",
          "text": [
            "Epoch [4/15], Train Accuracy: 91.91%\n"
          ]
        },
        {
          "name": "stderr",
          "output_type": "stream",
          "text": [
            "Epoch 5: 100%|██████████| 375/375 [00:08<00:00, 42.57it/s]\n"
          ]
        },
        {
          "name": "stdout",
          "output_type": "stream",
          "text": [
            "Epoch [5/15], Train Accuracy: 91.99%\n"
          ]
        },
        {
          "name": "stderr",
          "output_type": "stream",
          "text": [
            "Epoch 6: 100%|██████████| 375/375 [00:08<00:00, 44.02it/s]\n"
          ]
        },
        {
          "name": "stdout",
          "output_type": "stream",
          "text": [
            "Epoch [6/15], Train Accuracy: 93.14%\n"
          ]
        },
        {
          "name": "stderr",
          "output_type": "stream",
          "text": [
            "Epoch 7: 100%|██████████| 375/375 [00:09<00:00, 40.57it/s]\n"
          ]
        },
        {
          "name": "stdout",
          "output_type": "stream",
          "text": [
            "Epoch [7/15], Train Accuracy: 93.28%\n"
          ]
        },
        {
          "name": "stderr",
          "output_type": "stream",
          "text": [
            "Epoch 8: 100%|██████████| 375/375 [00:09<00:00, 39.37it/s]\n"
          ]
        },
        {
          "name": "stdout",
          "output_type": "stream",
          "text": [
            "Epoch [8/15], Train Accuracy: 94.03%\n"
          ]
        },
        {
          "name": "stderr",
          "output_type": "stream",
          "text": [
            "Epoch 9: 100%|██████████| 375/375 [00:08<00:00, 42.48it/s]\n"
          ]
        },
        {
          "name": "stdout",
          "output_type": "stream",
          "text": [
            "Epoch [9/15], Train Accuracy: 94.51%\n"
          ]
        },
        {
          "name": "stderr",
          "output_type": "stream",
          "text": [
            "Epoch 10: 100%|██████████| 375/375 [00:08<00:00, 45.18it/s]\n"
          ]
        },
        {
          "name": "stdout",
          "output_type": "stream",
          "text": [
            "Epoch [10/15], Train Accuracy: 95.20%\n"
          ]
        },
        {
          "name": "stderr",
          "output_type": "stream",
          "text": [
            "Epoch 11: 100%|██████████| 375/375 [00:09<00:00, 40.45it/s]\n"
          ]
        },
        {
          "name": "stdout",
          "output_type": "stream",
          "text": [
            "Epoch [11/15], Train Accuracy: 95.35%\n"
          ]
        },
        {
          "name": "stderr",
          "output_type": "stream",
          "text": [
            "Epoch 12: 100%|██████████| 375/375 [00:08<00:00, 42.38it/s]\n"
          ]
        },
        {
          "name": "stdout",
          "output_type": "stream",
          "text": [
            "Epoch [12/15], Train Accuracy: 95.66%\n"
          ]
        },
        {
          "name": "stderr",
          "output_type": "stream",
          "text": [
            "Epoch 13: 100%|██████████| 375/375 [00:09<00:00, 38.77it/s]\n"
          ]
        },
        {
          "name": "stdout",
          "output_type": "stream",
          "text": [
            "Epoch [13/15], Train Accuracy: 96.03%\n"
          ]
        },
        {
          "name": "stderr",
          "output_type": "stream",
          "text": [
            "Epoch 14: 100%|██████████| 375/375 [00:08<00:00, 44.82it/s]\n"
          ]
        },
        {
          "name": "stdout",
          "output_type": "stream",
          "text": [
            "Epoch [14/15], Train Accuracy: 96.25%\n"
          ]
        },
        {
          "name": "stderr",
          "output_type": "stream",
          "text": [
            "Epoch 15: 100%|██████████| 375/375 [00:08<00:00, 44.47it/s]\n"
          ]
        },
        {
          "name": "stdout",
          "output_type": "stream",
          "text": [
            "Epoch [15/15], Train Accuracy: 96.37%\n"
          ]
        }
      ],
      "source": [
        "cnn = CNN()\n",
        "train_acc_cnn = train(cnn, mnist_train)"
      ]
    },
    {
      "cell_type": "code",
      "execution_count": 115,
      "metadata": {},
      "outputs": [],
      "source": [
        "test_acc_cnn = test(cnn, mnist_test)"
      ]
    },
    {
      "cell_type": "code",
      "execution_count": 116,
      "metadata": {},
      "outputs": [
        {
          "name": "stdout",
          "output_type": "stream",
          "text": [
            "Test accuracy without Dropout: 95.86%\n",
            "Test accuracy with Dropout: 93.86%\n"
          ]
        }
      ],
      "source": [
        "print(f'Test accuracy without Dropout: {float(test_acc_cnn):.2f}%')\n",
        "print(f'Test accuracy with Dropout: {float(test_acc_cnn_do):.2f}%')"
      ]
    },
    {
      "cell_type": "code",
      "execution_count": 117,
      "metadata": {},
      "outputs": [
        {
          "data": {
            "image/png": "[encoded data removed]",
            "text/plain": [
              "<Figure size 640x480 with 1 Axes>"
            ]
          },
          "metadata": {},
          "output_type": "display_data"
        }
      ],
      "source": [
        "epochs = torch.arange(1,16,1)\n",
        "\n",
        "plt.plot(epochs, train_acc_cnn_do, label='With dropout')\n",
        "plt.plot(epochs, train_acc_cnn, label='Without dropout')\n",
        "plt.xlabel('Epochs')\n",
        "plt.ylabel('Train accuracy')\n",
        "plt.grid()\n",
        "plt.legend()\n",
        "plt.show()"
      ]
    },
    {
      "cell_type": "code",
      "execution_count": null,
      "metadata": {},
      "outputs": [],
      "source": []
    }
  ],
  "metadata": {
    "accelerator": "GPU",
    "colab": {
      "collapsed_sections": [
        "V8Q57_87r4Ac",
        "tMZ_3AVtsOV9",
        "0hQ0kDLOsirI",
        "pY4VkmvrteiY",
        "8_GqUg0wsx56",
        "Q8RNysbVtHM7"
      ],
      "gpuType": "T4",
      "provenance": [],
      "toc_visible": true
    },
    "kernelspec": {
      "display_name": "Python 3",
      "name": "python3"
    },
    "language_info": {
      "codemirror_mode": {
        "name": "ipython",
        "version": 3
      },
      "file_extension": ".py",
      "mimetype": "text/x-python",
      "name": "python",
      "nbconvert_exporter": "python",
      "pygments_lexer": "ipython3",
      "version": "3.11.8"
    }
  },
  "nbformat": 4,
  "nbformat_minor": 0
}
